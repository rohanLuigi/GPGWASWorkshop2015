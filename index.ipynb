{
 "cells": [
  {
   "cell_type": "markdown",
   "metadata": {},
   "source": [
    "\n",
    "### A.L. Rae Centre Workshop on Genomic Prediction and Genome-Wide Association Studies\n",
    "\n",
    "### November 16-20, 2015\n",
    "\n",
    "### Hamilton, New Zealand\n",
    "\n",
    "\n",
    "### Course Instructors:\n",
    "* Dorian Garrick\n",
    "* Rohan Fernando\n",
    "\n",
    "\n",
    "### Topics Covered:\n",
    "*\tStatistical, quantitative genetic, and computational aspects of genomic prediction.\n",
    "*\tGenome-wide association studies using genomic prediction methods\n",
    "*\tJulia scripts for genomic prediction and GWAS\n",
    "\n",
    "\n",
    "### Prerequisites:        \n",
    "* Graduate-level course in quantitative genetics.\n",
    "* Graduate-level course in statistics.\n",
    "* Basic understanding of concepts in QTL mapping, linkage, linkage disequilibrium and computer programming."
   ]
  },
  {
   "cell_type": "markdown",
   "metadata": {},
   "source": [
    "### Notes:\n",
    "\n",
    "* Day 1:\n",
    " * [Introduction to Genomic Prediction](Slides/Introduction.pdf)\n",
    " * [Simple Linear Models](Slides/Simple_Linear_Models.pdf)\n",
    " * Simulation of data using Julia \n",
    " ([notebook](JupyterNoteBooks/dataSimulation.ipynb), [slides](JupyterNoteBooks/dataSimulation.slides.html))\n",
    " * [Monte-Carlo Integration](JupyterNoteBooks/MonteCarlo.ipynb)  \n",
    " \n",
    "* Day 2:\n",
    " * [Bayes' Theorem](JupyterNotebooks/BayesTheorem.ipynb) \n",
    "   [(slides)](JupyterNotebooks/BayesTheorem.slides.html)\n",
    " * [Interactive Plot of Gibbs and MH Samplers](JupyterNoteBooks/interactive_MH_Gibbs.ipynb)\n",
    " * [Linear Regression Script: Inefficient](JuliaScripts/InefficientLinearRegressionMCMCwithknownResVar.jl.txt)\n",
    " * [Linear Regression Script: Efficient](JuliaScripts/LinearRegressionMCMCwithUnknownResVar.jl)\n",
    " * [Bayesian Inference by Application to Simple Linear Regression](JupyterNoteBooks/BayesSimpleLinear.ipynb)\n",
    "\n",
    "* Day 3:\n",
    " * [Linear Regression Script: Unknown Variance](JuliaScripts/LinearRegressionMCMCwithUnknownResVar.jl)\n",
    " * [Bayesian Simple Linear Regression: Solutions](JupyterNoteBooks/BayesSimpleLinearHW.ipynb)\n",
    " * [Pedigree-based Mixed Linear Models](Slides/PedigreeBLUP.pdf)\n",
    " * [BLUP Example](JuliaScripts/BLUPexample.jl)\n",
    " * [Problem 1](HWProblems/Problem1.pdf)\n",
    " * [Bayesian Multiple Regression](JupyterNoteBooks/BayesMultipleRegression.ipynb)\n",
    " \n",
    "* Day 4:\n",
    " * [GBLUP Slides](Slides/GBLUP.pdf)\n",
    " * [Problem 2](HWProblems/Problem2.pdf)\n",
    " "
   ]
  },
  {
   "cell_type": "markdown",
   "metadata": {},
   "source": [
    "### Julia Links:\n",
    "\n",
    "* [Julia Documentation](http://julia.readthedocs.org/en/latest/)\n",
    "* [Learn X in Y minutes](http://learnxinyminutes.com/docs/julia/)\n",
    "* [Julia Cheat Sheet](Slides/Julia-cheatsheet.pdf)\n",
    "* [Input/output from files](http://nbviewer.ipython.org/github/reworkhow/JuliaGenBook/blob/master/section_1_basics/rwfiles.ipynb)\n",
    "* [Sort rows of matrix](http://nbviewer.ipython.org/github/reworkhow/JuliaGenBook/blob/master/section_5_appendix/commands.ipynb)\n",
    "* [Package Management](http://nbviewer.ipython.org/github/reworkhow/GPW2015/blob/master/notes/Pkg.ipynb)"
   ]
  }
 ],
 "metadata": {
  "kernelspec": {
   "display_name": "Julia 0.4.0",
   "language": "julia",
   "name": "julia-0.4"
  },
  "language_info": {
   "file_extension": ".jl",
   "mimetype": "application/julia",
   "name": "julia",
   "version": "0.4.0"
  }
 },
 "nbformat": 4,
 "nbformat_minor": 0
}
